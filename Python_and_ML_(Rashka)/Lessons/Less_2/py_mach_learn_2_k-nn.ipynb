{
 "cells": [
  {
   "cell_type": "code",
   "execution_count": 1,
   "metadata": {},
   "outputs": [],
   "source": [
    "from matplotlib.colors import ListedColormap\n",
    "from matplotlib import pyplot as plt\n",
    "\n",
    "def plot_decision_regions(X, y, classifier, test_idx=None, resolution=0.02):\n",
    "    \n",
    "    # Настраиваем генератор маркеров и палитру\n",
    "    markers = ('s', 'x', 'o', '^', 'v')\n",
    "    colors = ('red', 'blue', 'lightgreen', 'gray', 'cyan')\n",
    "    cmap = ListedColormap(colors[:len(np.unique(y))])\n",
    "    \n",
    "    # Вывод поверхности решения\n",
    "    x1_min, x1_max = X[:, 0].min() - 1, X[:, 0].max() + 1\n",
    "    x2_min, x2_max = X[:, 1].min() - 1, X[:, 1].max() + 1\n",
    "    xx1, xx2 = np.meshgrid(np.arange(x1_min, x1_max, resolution),\n",
    "                          np.arange(x2_min, x2_max, resolution))\n",
    "    # предсказываем класс каждой точки для окрашивания в соответствующий цвет\n",
    "    Z = classifier.predict(np.array([xx1.ravel(), xx2.ravel()]).T) # ravel делает массив 1D\n",
    "    Z = Z.reshape(xx1.shape)\n",
    "    plt.contourf(xx1, xx2, Z, alpha=0.4, cmap=cmap)\n",
    "    plt.xlim(xx1.min(), xx1.max())\n",
    "    plt.ylim(xx2.min(), xx2.max())\n",
    "    \n",
    "    # показать все образцы\n",
    "    for idx, cl in enumerate(np.unique(y)):\n",
    "        plt.scatter(x=X[y == cl, 0], y=X[y == cl, 1],\n",
    "                   alpha=0.8, c=cmap(idx),\n",
    "                   marker=markers[idx], label=cl)\n",
    "        \n",
    "    # вылелить тестовые образцы\n",
    "        \n",
    "    if test_idx:\n",
    "        X_test, y_test = X[test_idx, :], y[test_idx]\n",
    "        plt.scatter(X_test[:, 0], X_test[:, 1], c='',\n",
    "                    alpha=1.0, linewidths=1, marker='o',\n",
    "                    s=55, label='Тестовый набор')"
   ]
  },
  {
   "cell_type": "code",
   "execution_count": 4,
   "metadata": {},
   "outputs": [],
   "source": [
    "from sklearn import datasets\n",
    "import numpy as np\n",
    "\n",
    "iris = datasets.load_iris()\n",
    "data = iris.data\n",
    "target_names = iris.target_names\n",
    "target = iris.target\n",
    "feature_names = iris.feature_names\n",
    "\n",
    "\n",
    "\n",
    "X = data[:, [2,3]] # Забираем третью и четвёртую колонки\n",
    "y = target\n",
    "np.unique(y) # Показывает категории\n",
    "\n",
    "from sklearn.model_selection import train_test_split\n",
    "\n",
    "X_train, X_test, y_train, y_test = train_test_split(X, y, test_size=0.3, random_state=0)\n",
    "\n",
    "from sklearn.preprocessing import StandardScaler\n",
    "\n",
    "sc = StandardScaler()\n",
    "# sc.fit(X_train) # Считает эмперическое среднее (ню) и стандартное отклонение (сигма)\n",
    "# для каждой размерности признаков\n",
    "# Стандартизирование значений, используя ню и сигма из предыдущего значения\n",
    "# X_train_std = sc.transform(X_train) \n",
    "# X_test_std = sc.transform(X_test)   \n",
    "# Если нужно меньше писать, ниже в две строчки\n",
    "X_train_std = sc.fit_transform(X_train)\n",
    "X_test_std = sc.fit_transform(X_test)\n",
    "X_combined_std = np.vstack([X_train_std, X_test_std])\n",
    "y_combined_std = np.hstack((y_train, y_test))\n",
    "X_combined = np.vstack((X_train, X_test))\n",
    "y_combined = np.hstack((y_train, y_test))"
   ]
  },
  {
   "cell_type": "markdown",
   "metadata": {},
   "source": [
    "# Классификатор на основе k-ближайших сосетей\n",
    "Не извлекает различающую функцию из тренировочных данных, а, вместо этого, запомнитает тренировочный набор данных.\n",
    "\n",
    "Алгоритмы машинного обучения можно сгруппировать в параметрические и непараметрические модели. Используя параметрические модели, мы выполняем оценивание параметров из тренировочного набора данных, чтобы извлечь функцию, которая сможет классифицировать новые точки данных, больше не требуя исходного тренировочного набора данных. Типичными примерами моделей являются персептрон, логистическая регрессия и линейный метод опорных векторов. Напротив, непараметрические модели не могут быть охарактеризованы фиксированным набором параметров, и число параметров в них растёт вместе с тренировочными данными. Двумя примерами непрараметрических моделей, которые мы видели до сих пор, являются классификатор на основе дерева решений/случайного леса и ядерный метод SVM.\n",
    "Модель k-ближайших соседй принадлежит подкатегории непараметрических моделей, которая описывается как обучение на примерах или по прецедентам. Модели, в основе которых лежит обучение на примерах, характеризуются запоминанием тренировочного набора данных, и ленивое обучение является особым случаем обучения на примерах, которые связано с отсутствующей (нулевой) стоимостью во время процесса обучения.\n",
    "\n",
    "Непосредственно сам алгоритм k ближайших соседей является довольно прямолинейным и может быть резюмирован следующими шагами:\n",
    "1. Выбрать число k и метрику расстояния.\n",
    "2. Найти k ближайших соседей образца, который мы ходим классифицировать.\n",
    "3. Присвоить метку класса мажоритарным голосованием.\n"
   ]
  },
  {
   "cell_type": "code",
   "execution_count": 7,
   "metadata": {},
   "outputs": [
    {
     "data": {
      "image/png": "[encoded data removed]",
      "text/plain": [
       "<Figure size 432x288 with 1 Axes>"
      ]
     },
     "metadata": {},
     "output_type": "display_data"
    }
   ],
   "source": [
    "from sklearn.neighbors import KNeighborsClassifier\n",
    "\n",
    "knn = KNeighborsClassifier(n_neighbors=5, p=3, metric='minkowski')\n",
    "knn.fit(X_train_std, y_train)\n",
    "plot_decision_regions(X_combined_std, y_combined, classifier=knn, test_idx=range(105,150))\n",
    "plt.xlabel(\"Длина лепестка\")\n",
    "plt.ylabel(\"Ширина лепестка\")\n",
    "plt.legend(loc='upper left')\n",
    "plt.show()"
   ]
  }
 ],
 "metadata": {
  "kernelspec": {
   "display_name": "Python 3",
   "language": "python",
   "name": "python3"
  },
  "language_info": {
   "codemirror_mode": {
    "name": "ipython",
    "version": 3
   },
   "file_extension": ".py",
   "mimetype": "text/x-python",
   "name": "python",
   "nbconvert_exporter": "python",
   "pygments_lexer": "ipython3",
   "version": "3.6.5"
  }
 },
 "nbformat": 4,
 "nbformat_minor": 2
}
