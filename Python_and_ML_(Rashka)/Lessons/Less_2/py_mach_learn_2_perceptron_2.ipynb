{
 "cells": [
  {
   "cell_type": "code",
   "execution_count": 1,
   "metadata": {},
   "outputs": [],
   "source": [
    "from sklearn import datasets\n",
    "import numpy as np\n",
    "\n",
    "iris = datasets.load_iris()"
   ]
  },
  {
   "cell_type": "code",
   "execution_count": 14,
   "metadata": {},
   "outputs": [],
   "source": [
    "data = iris.data\n",
    "target_names = iris.target_names\n",
    "target = iris.target\n",
    "feature_names = iris.feature_names"
   ]
  },
  {
   "cell_type": "code",
   "execution_count": 22,
   "metadata": {},
   "outputs": [
    {
     "data": {
      "text/plain": [
       "array([0, 1, 2])"
      ]
     },
     "execution_count": 22,
     "metadata": {},
     "output_type": "execute_result"
    }
   ],
   "source": [
    "X = data[:, [2,3]] # Забираем третью и четвёртую колонки\n",
    "y = target\n",
    "np.unique(y) # Показывает категории"
   ]
  },
  {
   "cell_type": "code",
   "execution_count": 24,
   "metadata": {},
   "outputs": [],
   "source": [
    "from sklearn.model_selection import train_test_split\n",
    "\n",
    "X_train, X_test, y_train, y_test = train_test_split(X, y, test_size=0.3, random_state=0)"
   ]
  },
  {
   "cell_type": "code",
   "execution_count": 34,
   "metadata": {},
   "outputs": [],
   "source": [
    "# Многие алгоритмы машинного обучения и оптимизации требуют выполнения масштабирования признаков\n",
    "# Ниже будет выполнена стандартизация, используя метод StandardScaler"
   ]
  },
  {
   "cell_type": "code",
   "execution_count": 32,
   "metadata": {},
   "outputs": [],
   "source": [
    "from sklearn.preprocessing import StandardScaler\n",
    "\n",
    "sc = StandardScaler()\n",
    "# sc.fit(X_train) # Считает эмперическое среднее (ню) и стандартное отклонение (сигма)\n",
    "# для каждой размерности признаков\n",
    "# Стандартизирование значений, используя ню и сигма из предыдущего значения\n",
    "# X_train_std = sc.transform(X_train) \n",
    "# X_test_std = sc.transform(X_test)   \n",
    "# Если нужно меньше писать, ниже в две строчки\n",
    "X_train_std = sc.fit_transform(X_train)\n",
    "X_test_std = sc.fit_transform(X_test)"
   ]
  },
  {
   "cell_type": "code",
   "execution_count": 35,
   "metadata": {},
   "outputs": [],
   "source": [
    "# После стандартизации можно тренировать модель. Большинство алгоритмов scikit-learn\n",
    "# поддерживают многоуровневую классификацию уже по умолчанию, благодаря методу \n",
    "# \"один против остальных\" - One-vs-Rest, OvR, который позволяет передать в персептрон сразу все\n",
    "# три класса цветков"
   ]
  },
  {
   "cell_type": "code",
   "execution_count": 96,
   "metadata": {},
   "outputs": [
    {
     "data": {
      "text/plain": [
       "Perceptron(alpha=0.0001, class_weight=None, eta0=0.01, fit_intercept=True,\n",
       "      max_iter=400, n_iter=None, n_jobs=1, penalty=None, random_state=0,\n",
       "      shuffle=True, tol=None, verbose=0, warm_start=False)"
      ]
     },
     "execution_count": 96,
     "metadata": {},
     "output_type": "execute_result"
    }
   ],
   "source": [
    "# Модельный параметр eta0 - темп обучения. Если темп обучения слишком большой, то алгоритм\n",
    "# может промахнуться по глобальному минимуму сходимости. Если слишком маленький, то для \n",
    "# достижения сходимости потребуется большое количество эпох, что замедлит скорость обучения.\n",
    "\n",
    "from sklearn.linear_model import Perceptron\n",
    "\n",
    "ppn = Perceptron(max_iter=400, eta0=0.01, random_state=0) #вместо n_iter использован max_iter\n",
    "ppn.fit(X_train_std, y_train)"
   ]
  },
  {
   "cell_type": "code",
   "execution_count": 97,
   "metadata": {},
   "outputs": [
    {
     "name": "stdout",
     "output_type": "stream",
     "text": [
      "Число ошибочно классифицированных образцов: 3\n",
      "Верность модели: 0.9333333333333333\n"
     ]
    }
   ],
   "source": [
    "from sklearn.metrics import accuracy_score\n",
    "\n",
    "y_pred = ppn.predict(X_test_std)\n",
    "print(f\"Число ошибочно классифицированных образцов: {(y_test != y_pred).sum()}\")\n",
    "print(f\"Верность модели: {accuracy_score(y_test, y_pred)}\")"
   ]
  },
  {
   "cell_type": "code",
   "execution_count": 99,
   "metadata": {},
   "outputs": [],
   "source": [
    "from matplotlib.colors import ListedColormap\n",
    "from matplotlib import pyplot as plt\n",
    "\n",
    "def plot_decision_regions(X, y, classifier, test_idx=None, resolution=0.02):\n",
    "    \n",
    "    # Настраиваем генератор маркеров и палитру\n",
    "    markers = ('s', 'x', 'o', '^', 'v')\n",
    "    colors = ('red', 'blue', 'lightgreen', 'gray', 'cyan')\n",
    "    cmap = ListedColormap(colors[:len(np.unique(y))])\n",
    "    \n",
    "    # Вывод поверхности решения\n",
    "    x1_min, x1_max = X[:, 0].min() - 1, X[:, 0].max() + 1\n",
    "    x2_min, x2_max = X[:, 1].min() - 1, X[:, 1].max() + 1\n",
    "    xx1, xx2 = np.meshgrid(np.arange(x1_min, x1_max, resolution),\n",
    "                          np.arange(x2_min, x2_max, resolution))\n",
    "    Z = classifier.predict(np.array([xx1.ravel(), xx2.ravel()]).T) # ravel делает массив 1D\n",
    "    Z = Z.reshape(xx1.shape)\n",
    "    plt.contourf(xx1, xx2, Z, alpha=0.4, cmap=cmap)\n",
    "    plt.xlim(xx1.min(), xx1.max())\n",
    "    plt.ylim(xx2.min(), xx2.max())\n",
    "    \n",
    "    # показать все образцы\n",
    "    for idx, cl in enumerate(np.unique(y)):\n",
    "        plt.scatter(x=X[y == cl, 0], y=X[y == cl, 1],\n",
    "                   alpha=0.8, c=cmap(idx),\n",
    "                   marker=markers[idx], label=cl)\n",
    "        # вылелить тестовые образцы\n",
    "        \n",
    "        if test_idx:\n",
    "            X_test, y_test = X[test_idx, :], y[test_idx]\n",
    "            plt.scatter(X_test[:, 0], X_test[:, 1], c='',\n",
    "                       alpha=1.0, linewidths=1, marker='o',\n",
    "                       s=55, label='Тестовый набор')\n",
    "        \n",
    "    "
   ]
  },
  {
   "cell_type": "code",
   "execution_count": 100,
   "metadata": {},
   "outputs": [
    {
     "data": {
      "image/png": "[encoded data removed]",
      "text/plain": [
       "<Figure size 432x288 with 1 Axes>"
      ]
     },
     "metadata": {},
     "output_type": "display_data"
    }
   ],
   "source": [
    "X_combined_std = np.vstack([X_train_std, X_test_std])\n",
    "y_combined_std = np.hstack((y_train, y_test))\n",
    "plot_decision_regions(X=X_combined_std, y=y_combined_std, \n",
    "                       classifier=ppn, test_idx=range(105,150))\n",
    "plt.xlabel(\"Длина лепестка [стандартизированная]\")\n",
    "plt.ylabel(\"Ширина лепестка [стандартизированная]\")\n",
    "plt.legend(loc='upper left')\n",
    "plt.show()\n"
   ]
  }
 ],
 "metadata": {
  "kernelspec": {
   "display_name": "Python 3",
   "language": "python",
   "name": "python3"
  },
  "language_info": {
   "codemirror_mode": {
    "name": "ipython",
    "version": 3
   },
   "file_extension": ".py",
   "mimetype": "text/x-python",
   "name": "python",
   "nbconvert_exporter": "python",
   "pygments_lexer": "ipython3",
   "version": "3.6.5"
  }
 },
 "nbformat": 4,
 "nbformat_minor": 2
}
